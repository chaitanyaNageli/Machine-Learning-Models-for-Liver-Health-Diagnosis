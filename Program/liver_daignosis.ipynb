{
 "cells": [
  {
   "cell_type": "code",
   "execution_count": 141,
   "id": "4e8ca984-9bca-4da9-a8e4-89aa57840c8e",
   "metadata": {},
   "outputs": [
    {
     "name": "stdout",
     "output_type": "stream",
     "text": [
      "Accuracy: 1.0\n",
      "you are not suffering from liver disease\n"
     ]
    },
    {
     "name": "stderr",
     "output_type": "stream",
     "text": [
      "C:\\anaconda\\Lib\\site-packages\\sklearn\\utils\\validation.py:2739: UserWarning: X does not have valid feature names, but LogisticRegression was fitted with feature names\n",
      "  warnings.warn(\n"
     ]
    }
   ],
   "source": [
    "import pandas as pd\n",
    "from collections import defaultdict\n",
    "from sklearn.model_selection import train_test_split\n",
    "from sklearn.linear_model import LogisticRegression\n",
    "from sklearn.metrics import accuracy_score,\n",
    "\n",
    "# Load data\n",
    "data = pd.read_excel('liver.xlsx')\n",
    "col='Predicted Value(Out Come-Patient suffering from liver  cirrosis or not)'\n",
    "data=data.dropna()\n",
    "data[col]=data[col].astype(str).str.strip().str.upper().map({'YES': 1, 'NO': 0})\n",
    "data['Diabetes Result']=data['Diabetes Result'].astype(str).str.strip().str.upper().map({'YES': 1, 'NO': 0})\n",
    "\n",
    "X = data[['Age', 'Duration of alcohol consumption(years)',\n",
    "       'Quantity of alcohol consumption (quarters/day)',\n",
    "        'Diabetes Result', \n",
    "        'Polymorphs  (%) ',\n",
    "        'Lymphocytes  (%)',\n",
    "       'Monocytes   (%)', \n",
    "          'Eosinophils   (%)', \n",
    "          'Albumin   (g/dl)',\n",
    "       'Globulin  (g/dl)',\n",
    "          'AL.Phosphatase      (U/L)',\n",
    "       'SGOT/AST      (U/L)', \n",
    "          'SGPT/ALT (U/L)']]\n",
    "\n",
    "\n",
    "y=data[col]\n",
    "\n",
    "X_train, X_test, y_train, y_test = train_test_split(X, y, test_size=0.2, random_state=42)\n",
    "model = LogisticRegression()\n",
    "model.fit(X_train, y_train)\n",
    "\n",
    "# Prediction and evaluation\n",
    "y_pred = model.predict(X_test)\n",
    "print(\"Accuracy:\", accuracy_score(y_test, y_pred))\n",
    "predict=model.predict([[0,0,0,0,0,0,0,0,0,0,0,0,0]])\n",
    "\n",
    "if predict[0]:\n",
    "    print(\"you are suffering from liver disease\")\n",
    "else:\n",
    "    print(\"you are not suffering from liver disease\")\n",
    "\n",
    "\n",
    "\n"
   ]
  },
  {
   "cell_type": "code",
   "execution_count": null,
   "id": "00386121-65c9-4872-866c-fb29e43c70f9",
   "metadata": {},
   "outputs": [],
   "source": [
    "\n"
   ]
  }
 ],
 "metadata": {
  "kernelspec": {
   "display_name": "Python 3 (ipykernel)",
   "language": "python",
   "name": "python3"
  },
  "language_info": {
   "codemirror_mode": {
    "name": "ipython",
    "version": 3
   },
   "file_extension": ".py",
   "mimetype": "text/x-python",
   "name": "python",
   "nbconvert_exporter": "python",
   "pygments_lexer": "ipython3",
   "version": "3.13.5"
  }
 },
 "nbformat": 4,
 "nbformat_minor": 5
}
